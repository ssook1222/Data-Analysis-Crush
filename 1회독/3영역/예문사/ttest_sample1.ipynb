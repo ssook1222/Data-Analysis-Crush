{
  "nbformat": 4,
  "nbformat_minor": 0,
  "metadata": {
    "colab": {
      "provenance": [],
      "authorship_tag": "ABX9TyPpf4+35sELddTwayUyFIMH",
      "include_colab_link": true
    },
    "kernelspec": {
      "name": "python3",
      "display_name": "Python 3"
    },
    "language_info": {
      "name": "python"
    }
  },
  "cells": [
    {
      "cell_type": "markdown",
      "metadata": {
        "id": "view-in-github",
        "colab_type": "text"
      },
      "source": [
        "<a href=\"https://colab.research.google.com/github/ssook1222/Data-Analysis-Crush/blob/main/1%ED%9A%8C%EB%8F%85/3%EC%98%81%EC%97%AD/%EC%98%88%EB%AC%B8%EC%82%AC/ttest_sample1.ipynb\" target=\"_parent\"><img src=\"https://colab.research.google.com/assets/colab-badge.svg\" alt=\"Open In Colab\"/></a>"
      ]
    },
    {
      "cell_type": "code",
      "execution_count": null,
      "metadata": {
        "colab": {
          "base_uri": "https://localhost:8080/"
        },
        "id": "DUUTcsLFhIxt",
        "outputId": "faa2e98a-bde3-4171-c019-19e5431a2dc4"
      },
      "outputs": [
        {
          "output_type": "stream",
          "name": "stdout",
          "text": [
            "Cloning into 'yemoonsaBigData'...\n",
            "remote: Enumerating objects: 709, done.\u001b[K\n",
            "remote: Counting objects: 100% (348/348), done.\u001b[K\n",
            "remote: Compressing objects: 100% (233/233), done.\u001b[K\n",
            "remote: Total 709 (delta 157), reused 237 (delta 115), pack-reused 361\u001b[K\n",
            "Receiving objects: 100% (709/709), 11.46 MiB | 8.97 MiB/s, done.\n",
            "Resolving deltas: 100% (341/341), done.\n"
          ]
        }
      ],
      "source": [
        "!git clone https://github.com/AnalyticsKnight/yemoonsaBigData"
      ]
    },
    {
      "cell_type": "code",
      "source": [
        "import pandas as pd\n",
        "\n",
        "x_test = pd.read_csv('./yemoonsaBigData/datasets/supplement/trees.csv')"
      ],
      "metadata": {
        "id": "AQIBNUmbhcF5"
      },
      "execution_count": null,
      "outputs": []
    },
    {
      "cell_type": "code",
      "source": [
        "from scipy import stats\n",
        "import numpy as np"
      ],
      "metadata": {
        "id": "RQCe6K00hphe"
      },
      "execution_count": null,
      "outputs": []
    },
    {
      "cell_type": "markdown",
      "source": [
        "1. 표본평균 x를 구하시오. (단, 소수점 둘째 자리까지)"
      ],
      "metadata": {
        "id": "lXO5yMn3hqLq"
      }
    },
    {
      "cell_type": "code",
      "source": [
        "height = x_test['Height']\n",
        "sample_mean = round(height.mean(), 2)\n",
        "print(sample_mean)"
      ],
      "metadata": {
        "colab": {
          "base_uri": "https://localhost:8080/"
        },
        "id": "YMMoNkH6hztT",
        "outputId": "d255e0aa-c7e8-4e01-fdbf-9cb2133ceeff"
      },
      "execution_count": null,
      "outputs": [
        {
          "output_type": "stream",
          "name": "stdout",
          "text": [
            "76.0\n"
          ]
        }
      ]
    },
    {
      "cell_type": "markdown",
      "source": [
        "2. 위의 가설을 검정하기 위한 검정통계량을 구하시오. (단, 반올림하여 소수점 둘째자리까지)"
      ],
      "metadata": {
        "id": "vf8f1i0ciJ93"
      }
    },
    {
      "cell_type": "code",
      "source": [
        "raw = stats.ttest_1samp(height, 75)\n",
        "ans = round(raw.statistic, 2)\n",
        "print(ans)"
      ],
      "metadata": {
        "colab": {
          "base_uri": "https://localhost:8080/"
        },
        "id": "uCaktplSiSiz",
        "outputId": "3d634db0-79c6-4d45-b12e-102ceb41ed0b"
      },
      "execution_count": null,
      "outputs": [
        {
          "output_type": "stream",
          "name": "stdout",
          "text": [
            "0.87\n"
          ]
        }
      ]
    },
    {
      "cell_type": "markdown",
      "source": [
        "3. 위의 통계량에 대한 p-value 값을 구하고, 유의 수준 0.05 하에서의 가설 검정 결과를 채택 / 기각 중 하나로 선택하시오."
      ],
      "metadata": {
        "id": "dOkyj_T2jtS1"
      }
    },
    {
      "cell_type": "code",
      "source": [
        "print(raw.pvalue)"
      ],
      "metadata": {
        "colab": {
          "base_uri": "https://localhost:8080/"
        },
        "id": "qnxf_KITj3Gs",
        "outputId": "775db9d4-3ce3-4dde-a328-c6c54a0f2f62"
      },
      "execution_count": null,
      "outputs": [
        {
          "output_type": "stream",
          "name": "stdout",
          "text": [
            "0.38916223357338076\n"
          ]
        }
      ]
    },
    {
      "cell_type": "markdown",
      "source": [
        "p-value가 0.05 이상이므로 채택."
      ],
      "metadata": {
        "id": "1Z1zs8bikAxt"
      }
    }
  ]
}