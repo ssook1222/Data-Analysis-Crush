{
  "nbformat": 4,
  "nbformat_minor": 0,
  "metadata": {
    "colab": {
      "provenance": [],
      "authorship_tag": "ABX9TyP77sHGlKCfdcBpzg8rbx0m",
      "include_colab_link": true
    },
    "kernelspec": {
      "name": "python3",
      "display_name": "Python 3"
    },
    "language_info": {
      "name": "python"
    }
  },
  "cells": [
    {
      "cell_type": "markdown",
      "metadata": {
        "id": "view-in-github",
        "colab_type": "text"
      },
      "source": [
        "<a href=\"https://colab.research.google.com/github/ssook1222/Data-Analysis-Crush/blob/main/1%ED%9A%8C%EB%8F%85/2%EC%98%81%EC%97%AD/airplane_board.ipynb\" target=\"_parent\"><img src=\"https://colab.research.google.com/assets/colab-badge.svg\" alt=\"Open In Colab\"/></a>"
      ]
    },
    {
      "cell_type": "markdown",
      "source": [
        "## 라이브러리"
      ],
      "metadata": {
        "id": "aM8dp0yY4pvr"
      }
    },
    {
      "cell_type": "code",
      "execution_count": null,
      "metadata": {
        "id": "5NCDDP-14coE"
      },
      "outputs": [],
      "source": [
        "import pandas as pd\n",
        "import numpy as np\n",
        "\n",
        "from sklearn.preprocessing import LabelEncoder\n",
        "from sklearn.preprocessing import MinMaxScaler\n",
        "\n",
        "from sklearn.metrics import accuracy_score\n",
        "from sklearn.ensemble import RandomForestClassifier"
      ]
    },
    {
      "cell_type": "markdown",
      "source": [
        "## 데이터 불러오기"
      ],
      "metadata": {
        "id": "8CZ6Hy5v5HIV"
      }
    },
    {
      "cell_type": "code",
      "source": [
        "x_train = pd.read_csv(\"https://raw.githubusercontent.com/Datamanim/datarepo/main/airline/x_train.csv\")\n",
        "y_train = pd.read_csv(\"https://raw.githubusercontent.com/Datamanim/datarepo/main/airline/y_train.csv\")\n",
        "x_test = pd.read_csv(\"https://raw.githubusercontent.com/Datamanim/datarepo/main/airline/x_test.csv\")\n",
        "y_test = pd.read_csv(\"https://raw.githubusercontent.com/Datamanim/datarepo/main/airline/y_test.csv\")"
      ],
      "metadata": {
        "id": "0G-HFi-75IR_"
      },
      "execution_count": null,
      "outputs": []
    },
    {
      "cell_type": "markdown",
      "source": [
        "## 데이터 전처리"
      ],
      "metadata": {
        "id": "MRtr8WYM5UJv"
      }
    },
    {
      "cell_type": "markdown",
      "source": [
        "### 결측치"
      ],
      "metadata": {
        "id": "F2VQ_58e5Wgr"
      }
    },
    {
      "cell_type": "code",
      "source": [
        "x_train.isna().sum()"
      ],
      "metadata": {
        "colab": {
          "base_uri": "https://localhost:8080/"
        },
        "id": "VnJQymLo5YXK",
        "outputId": "0be38bb5-f0d2-4c2a-8aa0-c39b0f13a098"
      },
      "execution_count": null,
      "outputs": [
        {
          "output_type": "execute_result",
          "data": {
            "text/plain": [
              "ID                                       0\n",
              "Gender                                   0\n",
              "Customer Type                            0\n",
              "Age                                      0\n",
              "Type of Travel                           0\n",
              "Class                                    0\n",
              "Flight Distance                          0\n",
              "Inflight wifi service                    0\n",
              "Departure/Arrival time convenient        0\n",
              "Ease of Online booking                   0\n",
              "Gate location                            0\n",
              "Food and drink                           0\n",
              "Online boarding                          0\n",
              "Seat comfort                             0\n",
              "Inflight entertainment                   0\n",
              "On-board service                         0\n",
              "Leg room service                         0\n",
              "Baggage handling                         0\n",
              "Checkin service                          0\n",
              "Inflight service                         0\n",
              "Cleanliness                              0\n",
              "Departure Delay in Minutes               0\n",
              "Arrival Delay in Minutes               256\n",
              "id                                   83123\n",
              "dtype: int64"
            ]
          },
          "metadata": {},
          "execution_count": 3
        }
      ]
    },
    {
      "cell_type": "code",
      "source": [
        "x_test.isna().sum()"
      ],
      "metadata": {
        "colab": {
          "base_uri": "https://localhost:8080/"
        },
        "id": "dp9UMvxL5igY",
        "outputId": "582d6767-aa4a-4676-d0d0-7f6c14037236"
      },
      "execution_count": null,
      "outputs": [
        {
          "output_type": "execute_result",
          "data": {
            "text/plain": [
              "ID                                    0\n",
              "Gender                                0\n",
              "Customer Type                         0\n",
              "Age                                   0\n",
              "Type of Travel                        0\n",
              "Class                                 0\n",
              "Flight Distance                       0\n",
              "Inflight wifi service                 0\n",
              "Departure/Arrival time convenient     0\n",
              "Ease of Online booking                0\n",
              "Gate location                         0\n",
              "Food and drink                        0\n",
              "Online boarding                       0\n",
              "Seat comfort                          0\n",
              "Inflight entertainment                0\n",
              "On-board service                      0\n",
              "Leg room service                      0\n",
              "Baggage handling                      0\n",
              "Checkin service                       0\n",
              "Inflight service                      0\n",
              "Cleanliness                           0\n",
              "Departure Delay in Minutes            0\n",
              "Arrival Delay in Minutes             72\n",
              "id                                    0\n",
              "dtype: int64"
            ]
          },
          "metadata": {},
          "execution_count": 5
        }
      ]
    },
    {
      "cell_type": "code",
      "source": [
        "x_train.dropna(axis = 1, inplace=True)\n",
        "x_test.dropna(axis = 1, inplace=True)"
      ],
      "metadata": {
        "id": "sRg3dEKb61wB"
      },
      "execution_count": null,
      "outputs": []
    },
    {
      "cell_type": "markdown",
      "source": [
        "### 데이터 타입 확인"
      ],
      "metadata": {
        "id": "LJtHoPMA5r34"
      }
    },
    {
      "cell_type": "code",
      "source": [
        "x_train.info()"
      ],
      "metadata": {
        "colab": {
          "base_uri": "https://localhost:8080/"
        },
        "id": "D9y1UyIY5tv5",
        "outputId": "e6c50505-c755-4cae-dffc-beebea54e8e8"
      },
      "execution_count": null,
      "outputs": [
        {
          "output_type": "stream",
          "name": "stdout",
          "text": [
            "<class 'pandas.core.frame.DataFrame'>\n",
            "RangeIndex: 83123 entries, 0 to 83122\n",
            "Data columns (total 22 columns):\n",
            " #   Column                             Non-Null Count  Dtype \n",
            "---  ------                             --------------  ----- \n",
            " 0   ID                                 83123 non-null  int64 \n",
            " 1   Gender                             83123 non-null  object\n",
            " 2   Customer Type                      83123 non-null  object\n",
            " 3   Age                                83123 non-null  int64 \n",
            " 4   Type of Travel                     83123 non-null  object\n",
            " 5   Class                              83123 non-null  object\n",
            " 6   Flight Distance                    83123 non-null  int64 \n",
            " 7   Inflight wifi service              83123 non-null  int64 \n",
            " 8   Departure/Arrival time convenient  83123 non-null  int64 \n",
            " 9   Ease of Online booking             83123 non-null  int64 \n",
            " 10  Gate location                      83123 non-null  int64 \n",
            " 11  Food and drink                     83123 non-null  int64 \n",
            " 12  Online boarding                    83123 non-null  int64 \n",
            " 13  Seat comfort                       83123 non-null  int64 \n",
            " 14  Inflight entertainment             83123 non-null  int64 \n",
            " 15  On-board service                   83123 non-null  int64 \n",
            " 16  Leg room service                   83123 non-null  int64 \n",
            " 17  Baggage handling                   83123 non-null  int64 \n",
            " 18  Checkin service                    83123 non-null  int64 \n",
            " 19  Inflight service                   83123 non-null  int64 \n",
            " 20  Cleanliness                        83123 non-null  int64 \n",
            " 21  Departure Delay in Minutes         83123 non-null  int64 \n",
            "dtypes: int64(18), object(4)\n",
            "memory usage: 14.0+ MB\n"
          ]
        }
      ]
    },
    {
      "cell_type": "code",
      "source": [
        "le = LabelEncoder()\n",
        "cols = x_train.select_dtypes(include = 'object')\n",
        "\n",
        "for col in cols:\n",
        "  x_train[col] = le.fit_transform(x_train[col])\n",
        "  x_test[col] = le.fit_transform(x_test[col])"
      ],
      "metadata": {
        "id": "4XzafZL95wDa"
      },
      "execution_count": null,
      "outputs": []
    },
    {
      "cell_type": "code",
      "source": [
        "le = LabelEncoder()\n",
        "cols = y_train.select_dtypes(include = 'object')\n",
        "\n",
        "for col in cols:\n",
        "  y_train[col] = le.fit_transform(y_train[col])"
      ],
      "metadata": {
        "id": "-xpw_W3R7q-M"
      },
      "execution_count": null,
      "outputs": []
    },
    {
      "cell_type": "markdown",
      "source": [
        "### 데이터 스케일링"
      ],
      "metadata": {
        "id": "JkHjjVFR5v06"
      }
    },
    {
      "cell_type": "code",
      "source": [
        "min_max = MinMaxScaler()\n",
        "\n",
        "x_train_data = min_max.fit_transform(x_train)\n",
        "x_test_data = min_max.fit_transform(x_test)\n",
        "\n",
        "x_train = pd.DataFrame(data = x_train_data, columns = x_train.columns)\n",
        "x_test = pd.DataFrame(data = x_test_data, columns = x_test.columns)"
      ],
      "metadata": {
        "id": "GpWJR0yn6EBf"
      },
      "execution_count": null,
      "outputs": []
    },
    {
      "cell_type": "markdown",
      "source": [
        "### 데이터 모델링"
      ],
      "metadata": {
        "id": "wjwIr6_77VTc"
      }
    },
    {
      "cell_type": "code",
      "source": [
        "x_test = x_test.drop('id', axis = 1)"
      ],
      "metadata": {
        "id": "911fmDqD8bji"
      },
      "execution_count": null,
      "outputs": []
    },
    {
      "cell_type": "code",
      "source": [
        "rfc = RandomForestClassifier(n_estimators = 1, max_depth = 2)\n",
        "model = rfc.fit(x_train, y_train)"
      ],
      "metadata": {
        "id": "--lcn9Nk7Wjc"
      },
      "execution_count": null,
      "outputs": []
    },
    {
      "cell_type": "code",
      "source": [
        "predict = model.predict(x_test)"
      ],
      "metadata": {
        "id": "ViUxDwnK8uHM"
      },
      "execution_count": null,
      "outputs": []
    },
    {
      "cell_type": "code",
      "source": [
        "print(accuracy_score(predict[:,1], y_test['satisfaction']))"
      ],
      "metadata": {
        "id": "YvR4oq2M8TC-"
      },
      "execution_count": null,
      "outputs": []
    },
    {
      "cell_type": "code",
      "source": [
        "submit = pd.DataFrame(data = predict, columns = y_test)\n",
        "submit.head(5)"
      ],
      "metadata": {
        "id": "1Crue-Jh74rs"
      },
      "execution_count": null,
      "outputs": []
    }
  ]
}