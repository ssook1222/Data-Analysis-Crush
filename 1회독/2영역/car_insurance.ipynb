{
  "nbformat": 4,
  "nbformat_minor": 0,
  "metadata": {
    "colab": {
      "provenance": [],
      "authorship_tag": "ABX9TyN+GRJ3T6ligxjhpSPTgj6+",
      "include_colab_link": true
    },
    "kernelspec": {
      "name": "python3",
      "display_name": "Python 3"
    },
    "language_info": {
      "name": "python"
    }
  },
  "cells": [
    {
      "cell_type": "markdown",
      "metadata": {
        "id": "view-in-github",
        "colab_type": "text"
      },
      "source": [
        "<a href=\"https://colab.research.google.com/github/ssook1222/Data-Analysis-Crush/blob/main/1%ED%9A%8C%EB%8F%85/2%EC%98%81%EC%97%AD/car_insurance.ipynb\" target=\"_parent\"><img src=\"https://colab.research.google.com/assets/colab-badge.svg\" alt=\"Open In Colab\"/></a>"
      ]
    },
    {
      "cell_type": "markdown",
      "source": [
        "## 라이브러리 가져오기"
      ],
      "metadata": {
        "id": "Vg5lcsqNxYle"
      }
    },
    {
      "cell_type": "code",
      "execution_count": null,
      "metadata": {
        "id": "3K8wyeoDxMdh"
      },
      "outputs": [],
      "source": [
        "import pandas as pd\n",
        "import numpy as np\n",
        "\n",
        "from sklearn.preprocessing import LabelEncoder\n",
        "from sklearn.preprocessing import MinMaxScaler\n",
        "\n",
        "from sklearn.tree import DecisionTreeClassifier\n",
        "from sklearn.ensemble import RandomForestClassifier\n",
        "\n",
        "from sklearn.metrics import accuracy_score"
      ]
    },
    {
      "cell_type": "markdown",
      "source": [
        "## 데이터 가져오기"
      ],
      "metadata": {
        "id": "IWXDqgSWx6WM"
      }
    },
    {
      "cell_type": "code",
      "source": [
        "x_train = pd.read_csv(\"https://raw.githubusercontent.com/Datamanim/datarepo/main/insurance/x_train.csv\")\n",
        "y_train = pd.read_csv(\"https://raw.githubusercontent.com/Datamanim/datarepo/main/insurance/y_train.csv\")\n",
        "x_test = pd.read_csv(\"https://raw.githubusercontent.com/Datamanim/datarepo/main/insurance/x_test.csv\")\n",
        "y_test = pd.read_csv(\"https://raw.githubusercontent.com/Datamanim/datarepo/main/insurance/y_test.csv\")"
      ],
      "metadata": {
        "id": "xLuggs1Px7-Z"
      },
      "execution_count": null,
      "outputs": []
    },
    {
      "cell_type": "markdown",
      "source": [
        "## 데이터 전처리하기"
      ],
      "metadata": {
        "id": "zUkmXN1syEbT"
      }
    },
    {
      "cell_type": "markdown",
      "source": [
        "### 결측치 확인"
      ],
      "metadata": {
        "id": "ktrNH3fzyKQs"
      }
    },
    {
      "cell_type": "code",
      "source": [
        "x_train.isna().sum()"
      ],
      "metadata": {
        "colab": {
          "base_uri": "https://localhost:8080/"
        },
        "id": "Sthn-626yIAS",
        "outputId": "c6906639-553e-475a-a6bd-addadb454ff7"
      },
      "execution_count": null,
      "outputs": [
        {
          "output_type": "execute_result",
          "data": {
            "text/plain": [
              "ID                           0\n",
              "Gender                       0\n",
              "Age                          0\n",
              "Driving_License              0\n",
              "Region_Code                  0\n",
              "Previously_Insured           0\n",
              "Vehicle_Age                  0\n",
              "Vehicle_Damage               0\n",
              "Annual_Premium               0\n",
              "Policy_Sales_Channel         0\n",
              "Vintage                      0\n",
              "id                      304887\n",
              "dtype: int64"
            ]
          },
          "metadata": {},
          "execution_count": 10
        }
      ]
    },
    {
      "cell_type": "code",
      "source": [
        "x_test.isna().sum()"
      ],
      "metadata": {
        "colab": {
          "base_uri": "https://localhost:8080/"
        },
        "id": "z2S0hUeVyOs4",
        "outputId": "425a96d1-0184-479b-a7ae-6678b0c55080"
      },
      "execution_count": null,
      "outputs": [
        {
          "output_type": "execute_result",
          "data": {
            "text/plain": [
              "ID                      0\n",
              "Gender                  0\n",
              "Age                     0\n",
              "Driving_License         0\n",
              "Region_Code             0\n",
              "Previously_Insured      0\n",
              "Vehicle_Age             0\n",
              "Vehicle_Damage          0\n",
              "Annual_Premium          0\n",
              "Policy_Sales_Channel    0\n",
              "Vintage                 0\n",
              "id                      0\n",
              "dtype: int64"
            ]
          },
          "metadata": {},
          "execution_count": 11
        }
      ]
    },
    {
      "cell_type": "code",
      "source": [
        "x_train = x_train.drop('id', axis = 1)\n",
        "x_test = x_test.drop('id', axis = 1)"
      ],
      "metadata": {
        "id": "_9d1uDEIyTaP"
      },
      "execution_count": null,
      "outputs": []
    },
    {
      "cell_type": "markdown",
      "source": [
        "### 타입 확인"
      ],
      "metadata": {
        "id": "PUpbKr2Vygo6"
      }
    },
    {
      "cell_type": "code",
      "source": [
        "x_train.info()"
      ],
      "metadata": {
        "colab": {
          "base_uri": "https://localhost:8080/"
        },
        "id": "6Vh4ZFE3yh6h",
        "outputId": "b7ac5ef3-fd84-40a5-93f8-b81010ee0f11"
      },
      "execution_count": null,
      "outputs": [
        {
          "output_type": "stream",
          "name": "stdout",
          "text": [
            "<class 'pandas.core.frame.DataFrame'>\n",
            "RangeIndex: 304887 entries, 0 to 304886\n",
            "Data columns (total 11 columns):\n",
            " #   Column                Non-Null Count   Dtype  \n",
            "---  ------                --------------   -----  \n",
            " 0   ID                    304887 non-null  int64  \n",
            " 1   Gender                304887 non-null  object \n",
            " 2   Age                   304887 non-null  int64  \n",
            " 3   Driving_License       304887 non-null  int64  \n",
            " 4   Region_Code           304887 non-null  float64\n",
            " 5   Previously_Insured    304887 non-null  int64  \n",
            " 6   Vehicle_Age           304887 non-null  object \n",
            " 7   Vehicle_Damage        304887 non-null  object \n",
            " 8   Annual_Premium        304887 non-null  float64\n",
            " 9   Policy_Sales_Channel  304887 non-null  float64\n",
            " 10  Vintage               304887 non-null  int64  \n",
            "dtypes: float64(3), int64(5), object(3)\n",
            "memory usage: 25.6+ MB\n"
          ]
        }
      ]
    },
    {
      "cell_type": "code",
      "source": [
        "cols = x_train.select_dtypes(include = 'object')\n",
        "le = LabelEncoder()\n",
        "\n",
        "for col in cols:\n",
        "  x_train[col] = le.fit_transform(x_train[col])\n",
        "  x_test[col] = le.fit_transform(x_test[col])"
      ],
      "metadata": {
        "id": "Ky0-VUfoykN3"
      },
      "execution_count": null,
      "outputs": []
    },
    {
      "cell_type": "markdown",
      "source": [
        "### 스케일링"
      ],
      "metadata": {
        "id": "K9QHwKZIy3xy"
      }
    },
    {
      "cell_type": "code",
      "source": [
        "min_max = MinMaxScaler()\n",
        "\n",
        "x_train_data = min_max.fit_transform(x_train)\n",
        "x_test_data = min_max.fit_transform(x_test)\n",
        "\n",
        "x_train = pd.DataFrame(data = x_train_data, columns = x_train.columns)\n",
        "x_test = pd.DataFrame(data = x_test_data, columns = x_test.columns)"
      ],
      "metadata": {
        "id": "2h-ckLtZy5TV"
      },
      "execution_count": null,
      "outputs": []
    },
    {
      "cell_type": "markdown",
      "source": [
        "## 데이터 모델링"
      ],
      "metadata": {
        "id": "a90QTz1zzQGV"
      }
    },
    {
      "cell_type": "code",
      "source": [
        "rfc = RandomForestClassifier(n_estimators = 2, max_depth = 3)\n",
        "model = rfc.fit(x_train, y_train)\n",
        "predict = model.predict(x_test)"
      ],
      "metadata": {
        "id": "UNoDKttl0gpD"
      },
      "execution_count": null,
      "outputs": []
    },
    {
      "cell_type": "markdown",
      "source": [
        "## 제출"
      ],
      "metadata": {
        "id": "H4v2kqjCzfGg"
      }
    },
    {
      "cell_type": "code",
      "source": [
        "submit = pd.DataFrame(data = predict, columns = y_test.columns)"
      ],
      "metadata": {
        "id": "Fa6yqDui0Gzc"
      },
      "execution_count": null,
      "outputs": []
    }
  ]
}