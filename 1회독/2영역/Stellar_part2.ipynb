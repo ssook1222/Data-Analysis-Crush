{
  "nbformat": 4,
  "nbformat_minor": 0,
  "metadata": {
    "colab": {
      "provenance": [],
      "authorship_tag": "ABX9TyOD8sMglH/WAMxzIMHQHyLa",
      "include_colab_link": true
    },
    "kernelspec": {
      "name": "python3",
      "display_name": "Python 3"
    },
    "language_info": {
      "name": "python"
    }
  },
  "cells": [
    {
      "cell_type": "markdown",
      "metadata": {
        "id": "view-in-github",
        "colab_type": "text"
      },
      "source": [
        "<a href=\"https://colab.research.google.com/github/ssook1222/Data-Analysis-Crush/blob/main/1%ED%9A%8C%EB%8F%85/2%EC%98%81%EC%97%AD/Stellar_part2.ipynb\" target=\"_parent\"><img src=\"https://colab.research.google.com/assets/colab-badge.svg\" alt=\"Open In Colab\"/></a>"
      ]
    },
    {
      "cell_type": "code",
      "execution_count": 1,
      "metadata": {
        "colab": {
          "base_uri": "https://localhost:8080/"
        },
        "id": "S5YGgkC2Qmvf",
        "outputId": "99865650-a010-4e59-a138-da9b73bec591"
      },
      "outputs": [
        {
          "output_type": "stream",
          "name": "stdout",
          "text": [
            "Cloning into 'yemoonsaBigdata'...\n",
            "remote: Enumerating objects: 709, done.\u001b[K\n",
            "remote: Counting objects: 100% (346/346), done.\u001b[K\n",
            "remote: Compressing objects: 100% (231/231), done.\u001b[K\n",
            "remote: Total 709 (delta 156), reused 237 (delta 115), pack-reused 363\u001b[K\n",
            "Receiving objects: 100% (709/709), 11.46 MiB | 7.03 MiB/s, done.\n",
            "Resolving deltas: 100% (341/341), done.\n"
          ]
        }
      ],
      "source": [
        "! git clone https://github.com/AnalyticsKnight/yemoonsaBigdata\n",
        "\n",
        "import pandas as pd"
      ]
    },
    {
      "cell_type": "code",
      "source": [
        "x_test = pd.read_csv('./yemoonsaBigdata/datasets/Part2/stellar_X_test.csv')\n",
        "x_train = pd.read_csv('./yemoonsaBigdata/datasets/Part2/stellar_X_train.csv')\n",
        "y_train = pd.read_csv('./yemoonsaBigdata/datasets/Part2/stellar_y_train.csv')"
      ],
      "metadata": {
        "id": "xcgnMZ0uQw9p"
      },
      "execution_count": 2,
      "outputs": []
    },
    {
      "cell_type": "code",
      "source": [
        "import numpy as np\n",
        "from sklearn.preprocessing import LabelEncoder\n",
        "from sklearn.preprocessing import MinMaxScaler\n",
        "\n",
        "from sklearn.model_selection import train_test_split\n",
        "from sklearn.tree import DecisionTreeClassifier\n",
        "from sklearn.metrics import accuracy_score"
      ],
      "metadata": {
        "id": "DG4z40IrQ888"
      },
      "execution_count": 13,
      "outputs": []
    },
    {
      "cell_type": "code",
      "source": [
        "x_tr, x_val, y_tr, y_val = train_test_split(x_train, y_train, test_size = 0.3)"
      ],
      "metadata": {
        "id": "mhs583cIRUOn"
      },
      "execution_count": 7,
      "outputs": []
    },
    {
      "cell_type": "code",
      "source": [
        "print(x_tr.isna().sum())\n",
        "print(x_val.isna().sum())\n",
        "print(y_tr.isna().sum())"
      ],
      "metadata": {
        "colab": {
          "base_uri": "https://localhost:8080/"
        },
        "id": "w8eBgILHRdtj",
        "outputId": "3c7f489c-c8b2-4973-95ab-61466d341a0f"
      },
      "execution_count": 9,
      "outputs": [
        {
          "output_type": "stream",
          "name": "stdout",
          "text": [
            "alpha       0\n",
            "delta       0\n",
            "u           0\n",
            "g           0\n",
            "r           0\n",
            "i           0\n",
            "z           0\n",
            "redshift    0\n",
            "run_ID      0\n",
            "rerun_ID    0\n",
            "cam_col     0\n",
            "field_ID    0\n",
            "plate       0\n",
            "dtype: int64\n",
            "alpha       0\n",
            "delta       0\n",
            "u           0\n",
            "g           0\n",
            "r           0\n",
            "i           0\n",
            "z           0\n",
            "redshift    0\n",
            "run_ID      0\n",
            "rerun_ID    0\n",
            "cam_col     0\n",
            "field_ID    0\n",
            "plate       0\n",
            "dtype: int64\n",
            "galaxy    0\n",
            "dtype: int64\n"
          ]
        }
      ]
    },
    {
      "cell_type": "code",
      "source": [
        "print(x_tr.info())\n",
        "print(x_val.info())\n",
        "print(y_tr.info())"
      ],
      "metadata": {
        "colab": {
          "base_uri": "https://localhost:8080/"
        },
        "id": "phFEnN8jRkQ_",
        "outputId": "b33814b8-e966-42b7-810d-355d7c9e8cce"
      },
      "execution_count": 10,
      "outputs": [
        {
          "output_type": "stream",
          "name": "stdout",
          "text": [
            "<class 'pandas.core.frame.DataFrame'>\n",
            "Index: 49000 entries, 16138 to 14382\n",
            "Data columns (total 13 columns):\n",
            " #   Column    Non-Null Count  Dtype  \n",
            "---  ------    --------------  -----  \n",
            " 0   alpha     49000 non-null  float64\n",
            " 1   delta     49000 non-null  float64\n",
            " 2   u         49000 non-null  float64\n",
            " 3   g         49000 non-null  float64\n",
            " 4   r         49000 non-null  float64\n",
            " 5   i         49000 non-null  float64\n",
            " 6   z         49000 non-null  float64\n",
            " 7   redshift  49000 non-null  float64\n",
            " 8   run_ID    49000 non-null  int64  \n",
            " 9   rerun_ID  49000 non-null  int64  \n",
            " 10  cam_col   49000 non-null  int64  \n",
            " 11  field_ID  49000 non-null  int64  \n",
            " 12  plate     49000 non-null  int64  \n",
            "dtypes: float64(8), int64(5)\n",
            "memory usage: 5.2 MB\n",
            "None\n",
            "<class 'pandas.core.frame.DataFrame'>\n",
            "Index: 21000 entries, 55317 to 32016\n",
            "Data columns (total 13 columns):\n",
            " #   Column    Non-Null Count  Dtype  \n",
            "---  ------    --------------  -----  \n",
            " 0   alpha     21000 non-null  float64\n",
            " 1   delta     21000 non-null  float64\n",
            " 2   u         21000 non-null  float64\n",
            " 3   g         21000 non-null  float64\n",
            " 4   r         21000 non-null  float64\n",
            " 5   i         21000 non-null  float64\n",
            " 6   z         21000 non-null  float64\n",
            " 7   redshift  21000 non-null  float64\n",
            " 8   run_ID    21000 non-null  int64  \n",
            " 9   rerun_ID  21000 non-null  int64  \n",
            " 10  cam_col   21000 non-null  int64  \n",
            " 11  field_ID  21000 non-null  int64  \n",
            " 12  plate     21000 non-null  int64  \n",
            "dtypes: float64(8), int64(5)\n",
            "memory usage: 2.2 MB\n",
            "None\n",
            "<class 'pandas.core.frame.DataFrame'>\n",
            "Index: 49000 entries, 16138 to 14382\n",
            "Data columns (total 1 columns):\n",
            " #   Column  Non-Null Count  Dtype\n",
            "---  ------  --------------  -----\n",
            " 0   galaxy  49000 non-null  int64\n",
            "dtypes: int64(1)\n",
            "memory usage: 765.6 KB\n",
            "None\n"
          ]
        }
      ]
    },
    {
      "cell_type": "code",
      "source": [
        "min_max = MinMaxScaler()\n",
        "\n",
        "x_tr_data = min_max.fit_transform(x_tr)\n",
        "x_val_data = min_max.fit_transform(x_val)\n",
        "\n",
        "x_tr = pd.DataFrame(x_tr_data, columns = x_tr.columns)\n",
        "x_val = pd.DataFrame(x_val_data, columns = x_val.columns)"
      ],
      "metadata": {
        "id": "UO9jklMvRvSD"
      },
      "execution_count": 15,
      "outputs": []
    },
    {
      "cell_type": "code",
      "source": [
        "dtc = DecisionTreeClassifier()\n",
        "model = dtc.fit(x_tr, y_tr)\n",
        "predict = model.predict(x_val)"
      ],
      "metadata": {
        "id": "tgoBOfxxSQvd"
      },
      "execution_count": 16,
      "outputs": []
    },
    {
      "cell_type": "code",
      "source": [
        "print(accuracy_score(predict, y_val))"
      ],
      "metadata": {
        "colab": {
          "base_uri": "https://localhost:8080/"
        },
        "id": "JKI6OunFScd3",
        "outputId": "2dcfb0ef-3447-4849-d549-fde39d54dc61"
      },
      "execution_count": 17,
      "outputs": [
        {
          "output_type": "stream",
          "name": "stdout",
          "text": [
            "0.7696190476190476\n"
          ]
        }
      ]
    },
    {
      "cell_type": "code",
      "source": [
        "print(y_val)"
      ],
      "metadata": {
        "colab": {
          "base_uri": "https://localhost:8080/"
        },
        "id": "_yGQtc4fSmwj",
        "outputId": "85aa9164-0112-4c65-f63f-73c8d45a69ac"
      },
      "execution_count": 18,
      "outputs": [
        {
          "output_type": "stream",
          "name": "stdout",
          "text": [
            "       galaxy\n",
            "55317       1\n",
            "47963       0\n",
            "35205       0\n",
            "43482       1\n",
            "35163       0\n",
            "...       ...\n",
            "13252       1\n",
            "8061        1\n",
            "4102        0\n",
            "64456       1\n",
            "32016       1\n",
            "\n",
            "[21000 rows x 1 columns]\n"
          ]
        }
      ]
    },
    {
      "cell_type": "code",
      "source": [
        "submit = pd.DataFrame(predict, columns = y_val.columns)\n",
        "print(submit.head(5))\n",
        "submit.to_csv('./submit', index = False)"
      ],
      "metadata": {
        "colab": {
          "base_uri": "https://localhost:8080/"
        },
        "id": "L9w2y3t6ShEU",
        "outputId": "acce77a5-0b84-45e3-f8a1-4b2ddada7fb4"
      },
      "execution_count": 22,
      "outputs": [
        {
          "output_type": "stream",
          "name": "stdout",
          "text": [
            "   galaxy\n",
            "0       0\n",
            "1       0\n",
            "2       1\n",
            "3       0\n",
            "4       0\n"
          ]
        }
      ]
    }
  ]
}