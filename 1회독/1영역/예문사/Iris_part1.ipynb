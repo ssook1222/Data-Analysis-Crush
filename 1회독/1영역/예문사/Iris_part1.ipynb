{
  "nbformat": 4,
  "nbformat_minor": 0,
  "metadata": {
    "colab": {
      "provenance": [],
      "authorship_tag": "ABX9TyN7F/mqiTJQsz6ySAHkjNxU",
      "include_colab_link": true
    },
    "kernelspec": {
      "name": "python3",
      "display_name": "Python 3"
    },
    "language_info": {
      "name": "python"
    }
  },
  "cells": [
    {
      "cell_type": "markdown",
      "metadata": {
        "id": "view-in-github",
        "colab_type": "text"
      },
      "source": [
        "<a href=\"https://colab.research.google.com/github/ssook1222/Data-Analysis-Crush/blob/main/1%ED%9A%8C%EB%8F%85/1%EC%98%81%EC%97%AD/%EC%98%88%EB%AC%B8%EC%82%AC/Iris_part1.ipynb\" target=\"_parent\"><img src=\"https://colab.research.google.com/assets/colab-badge.svg\" alt=\"Open In Colab\"/></a>"
      ]
    },
    {
      "cell_type": "code",
      "execution_count": 1,
      "metadata": {
        "colab": {
          "base_uri": "https://localhost:8080/"
        },
        "id": "FskjGTFDBQQ4",
        "outputId": "5155a097-521e-420f-c83c-186df1dede26"
      },
      "outputs": [
        {
          "output_type": "stream",
          "name": "stdout",
          "text": [
            "Cloning into 'yemoonsaBigdata'...\n",
            "remote: Enumerating objects: 709, done.\u001b[K\n",
            "remote: Counting objects: 100% (346/346), done.\u001b[K\n",
            "remote: Compressing objects: 100% (231/231), done.\u001b[K\n",
            "remote: Total 709 (delta 156), reused 237 (delta 115), pack-reused 363\u001b[K\n",
            "Receiving objects: 100% (709/709), 11.46 MiB | 9.96 MiB/s, done.\n",
            "Resolving deltas: 100% (341/341), done.\n"
          ]
        }
      ],
      "source": [
        "! git clone https://github.com/AnalyticsKnight/yemoonsaBigdata"
      ]
    },
    {
      "cell_type": "code",
      "source": [
        "import pandas as pd\n",
        "\n",
        "df = pd.read_csv('./yemoonsaBigdata/datasets/Part2/iris.csv')"
      ],
      "metadata": {
        "id": "gQdgnfc8Bi8Z"
      },
      "execution_count": 6,
      "outputs": []
    },
    {
      "cell_type": "markdown",
      "source": [
        "1. 가장 큰 값과 작은 값 사이의 차이"
      ],
      "metadata": {
        "id": "FTYSoNM2CUKR"
      }
    },
    {
      "cell_type": "code",
      "source": [
        "print(df)"
      ],
      "metadata": {
        "colab": {
          "base_uri": "https://localhost:8080/"
        },
        "id": "lR8we-oxCa9J",
        "outputId": "904b26b2-95ae-4a39-c87d-6f458fb43783"
      },
      "execution_count": 7,
      "outputs": [
        {
          "output_type": "stream",
          "name": "stdout",
          "text": [
            "     sepal_length  sepal_width  petal_length  petal_width    species\n",
            "0             5.1          3.5           1.4          0.2     setosa\n",
            "1             4.9          3.0           1.4          0.2     setosa\n",
            "2             4.7          3.2           1.3          0.2     setosa\n",
            "3             4.6          3.1           1.5          0.2     setosa\n",
            "4             5.0          3.6           1.4          0.2     setosa\n",
            "..            ...          ...           ...          ...        ...\n",
            "145           6.7          3.0           5.2          2.3  virginica\n",
            "146           6.3          2.5           5.0          1.9  virginica\n",
            "147           6.5          3.0           5.2          2.0  virginica\n",
            "148           6.2          3.4           5.4          2.3  virginica\n",
            "149           5.9          3.0           5.1          1.8  virginica\n",
            "\n",
            "[150 rows x 5 columns]\n"
          ]
        }
      ]
    },
    {
      "cell_type": "code",
      "source": [
        "print(round(df.groupby('species').petal_width.quantile(0.75).max() - df.groupby('species').petal_width.quantile(0.75).min(), 0))"
      ],
      "metadata": {
        "colab": {
          "base_uri": "https://localhost:8080/"
        },
        "id": "_nYh-mM5BrR1",
        "outputId": "fcba91e2-e3e7-4d25-e2a3-d65c2e693f52"
      },
      "execution_count": 60,
      "outputs": [
        {
          "output_type": "stream",
          "name": "stdout",
          "text": [
            "2.0\n"
          ]
        }
      ]
    },
    {
      "cell_type": "markdown",
      "source": [
        "2. 리스트에 10번째 오는 숫자"
      ],
      "metadata": {
        "id": "TnpZn7tgDKIX"
      }
    },
    {
      "cell_type": "code",
      "source": [
        "lst = list(df.sepal_length.drop_duplicates().values)\n",
        "lst.sort()\n",
        "print(lst[9])"
      ],
      "metadata": {
        "colab": {
          "base_uri": "https://localhost:8080/"
        },
        "id": "v0eMjZVqDNE2",
        "outputId": "1038b4e6-114d-417c-a698-d432e700eb01"
      },
      "execution_count": 61,
      "outputs": [
        {
          "output_type": "stream",
          "name": "stdout",
          "text": [
            "5.2\n"
          ]
        }
      ]
    },
    {
      "cell_type": "markdown",
      "source": [
        "3. 표준편차 값을 구한 후 50을 곱한 값을 계산하시오"
      ],
      "metadata": {
        "id": "lAxW1ef6Dnxe"
      }
    },
    {
      "cell_type": "code",
      "source": [
        "test_data = df.sepal_width.sort_values(ascending = False).head(100)\n",
        "print(round(test_data.std() * 50, 0))"
      ],
      "metadata": {
        "colab": {
          "base_uri": "https://localhost:8080/"
        },
        "id": "GRdjDQR-Dwpk",
        "outputId": "15a9e2ec-5961-480c-d060-c94f296c0025"
      },
      "execution_count": 31,
      "outputs": [
        {
          "output_type": "stream",
          "name": "stdout",
          "text": [
            "16.0\n"
          ]
        }
      ]
    },
    {
      "cell_type": "markdown",
      "source": [
        "4. 평균 값의 합을 구하시오."
      ],
      "metadata": {
        "id": "wRl3P_crEaZE"
      }
    },
    {
      "cell_type": "code",
      "source": [
        "df_raw = df.sort_values('petal_length', ascending = False)\n",
        "df4 = df_raw.groupby('species', as_index = False).head(10)\n",
        "df4 = df4.groupby('species').petal_length.mean(10)\n",
        "\n",
        "means = round(sum(df4.values), 0)\n",
        "print(means)"
      ],
      "metadata": {
        "colab": {
          "base_uri": "https://localhost:8080/"
        },
        "id": "oK28E6d7Eemi",
        "outputId": "91a808fd-6240-4252-84fa-e8a1588e3a9d"
      },
      "execution_count": 54,
      "outputs": [
        {
          "output_type": "stream",
          "name": "stdout",
          "text": [
            "13.0\n"
          ]
        }
      ]
    },
    {
      "cell_type": "markdown",
      "source": [
        "5. 이상치를 가지는 데이터 행 수를 계산하시오"
      ],
      "metadata": {
        "id": "QvgU9zBvGpRQ"
      }
    },
    {
      "cell_type": "code",
      "source": [
        "criteria = df.sepal_length.mean()\n",
        "stds = df.sepal_length.std()\n",
        "\n",
        "ans = df[(criteria + 2 * stds <= df.sepal_length ) | (criteria - 2 * stds >= df.sepal_length) ].count()\n",
        "print(ans.values[0])"
      ],
      "metadata": {
        "colab": {
          "base_uri": "https://localhost:8080/"
        },
        "id": "xkhFiZrvGs8I",
        "outputId": "0db6b7f2-16e0-44bb-a7f3-a53f7b3491df"
      },
      "execution_count": 66,
      "outputs": [
        {
          "output_type": "stream",
          "name": "stdout",
          "text": [
            "6\n"
          ]
        }
      ]
    }
  ]
}