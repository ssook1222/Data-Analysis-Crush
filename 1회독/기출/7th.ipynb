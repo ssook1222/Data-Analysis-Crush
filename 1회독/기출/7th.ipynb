{
  "nbformat": 4,
  "nbformat_minor": 0,
  "metadata": {
    "colab": {
      "provenance": [],
      "authorship_tag": "ABX9TyNfBoCPD7oFhVoGcBwhLWtm",
      "include_colab_link": true
    },
    "kernelspec": {
      "name": "python3",
      "display_name": "Python 3"
    },
    "language_info": {
      "name": "python"
    }
  },
  "cells": [
    {
      "cell_type": "markdown",
      "metadata": {
        "id": "view-in-github",
        "colab_type": "text"
      },
      "source": [
        "<a href=\"https://colab.research.google.com/github/ssook1222/Data-Analysis-Crush/blob/main/1%ED%9A%8C%EB%8F%85/%EA%B8%B0%EC%B6%9C/7th.ipynb\" target=\"_parent\"><img src=\"https://colab.research.google.com/assets/colab-badge.svg\" alt=\"Open In Colab\"/></a>"
      ]
    },
    {
      "cell_type": "code",
      "source": [
        "!git clone https://github.com/AnalyticsKnight/yemoonsaBigdata/"
      ],
      "metadata": {
        "colab": {
          "base_uri": "https://localhost:8080/"
        },
        "id": "_SD_nLgi8E0h",
        "outputId": "d232b47c-5386-44f6-d3e6-faf6090b1a54"
      },
      "execution_count": 1,
      "outputs": [
        {
          "output_type": "stream",
          "name": "stdout",
          "text": [
            "Cloning into 'yemoonsaBigdata'...\n",
            "remote: Enumerating objects: 709, done.\u001b[K\n",
            "remote: Counting objects: 100% (346/346), done.\u001b[K\n",
            "remote: Compressing objects: 100% (231/231), done.\u001b[K\n",
            "remote: Total 709 (delta 156), reused 237 (delta 115), pack-reused 363\u001b[K\n",
            "Receiving objects: 100% (709/709), 11.46 MiB | 7.57 MiB/s, done.\n",
            "Resolving deltas: 100% (341/341), done.\n"
          ]
        }
      ]
    },
    {
      "cell_type": "markdown",
      "source": [
        "### 1영역"
      ],
      "metadata": {
        "id": "u9A0VPISQeoE"
      }
    },
    {
      "cell_type": "code",
      "source": [
        "import pandas as pd\n",
        "import numpy as np\n",
        "\n",
        "df = pd.read_csv('./yemoonsaBigdata/datasets/Part5/ex7/07.01.01-students_scores.csv')"
      ],
      "metadata": {
        "id": "RJK3F5QK8Hpq"
      },
      "execution_count": 2,
      "outputs": []
    },
    {
      "cell_type": "markdown",
      "source": [
        "1-1. 학생 데이터"
      ],
      "metadata": {
        "id": "sQ4oZ_BR8JhS"
      }
    },
    {
      "cell_type": "code",
      "execution_count": 3,
      "metadata": {
        "colab": {
          "base_uri": "https://localhost:8080/"
        },
        "id": "cCEdpeoC8BAf",
        "outputId": "9d39bf1f-c77f-46f1-a989-249e31c08f89"
      },
      "outputs": [
        {
          "output_type": "stream",
          "name": "stdout",
          "text": [
            "Statistics\n"
          ]
        }
      ],
      "source": [
        "stats = df.Statistics.count()\n",
        "ds = df.DataScience.count()\n",
        "ml = df.MachineLearning.count()\n",
        "el = df.EnglishLiterature.count()\n",
        "\n",
        "# print(stats, ds, ml, el)\n",
        "print('Statistics')"
      ]
    },
    {
      "cell_type": "code",
      "source": [
        "df_1 = df.dropna(subset='Statistics', axis = 0)\n",
        "df_1 = df_1['Statistics'].values.reshape(-1, 1)\n",
        "from sklearn.preprocessing import MinMaxScaler\n",
        "min_max = MinMaxScaler()\n",
        "\n",
        "df_1_st_data = min_max.fit_transform(df_1)"
      ],
      "metadata": {
        "id": "qnBbqGru8LQk"
      },
      "execution_count": 4,
      "outputs": []
    },
    {
      "cell_type": "code",
      "source": [
        "print(df_1_st_data.max())"
      ],
      "metadata": {
        "colab": {
          "base_uri": "https://localhost:8080/"
        },
        "id": "ce8je3TZ9odL",
        "outputId": "e9d1cf87-c3f1-4eeb-acc2-c4a2feb11447"
      },
      "execution_count": 5,
      "outputs": [
        {
          "output_type": "stream",
          "name": "stdout",
          "text": [
            "1.0\n"
          ]
        }
      ]
    },
    {
      "cell_type": "markdown",
      "source": [
        "1-2. 물고기 데이터 상관관계"
      ],
      "metadata": {
        "id": "Bn562SIORBtX"
      }
    },
    {
      "cell_type": "code",
      "source": [
        "df2 = pd.read_csv('./yemoonsaBigdata/datasets/Part5/ex7/07.01.02-fish_weight_data.csv')"
      ],
      "metadata": {
        "id": "Mea4EsVFTqKt"
      },
      "execution_count": 6,
      "outputs": []
    },
    {
      "cell_type": "code",
      "source": [
        "df2.columns"
      ],
      "metadata": {
        "colab": {
          "base_uri": "https://localhost:8080/"
        },
        "id": "qqy39VbYT60T",
        "outputId": "f36c9a0a-f036-4cf3-eb09-53c74b6bea0f"
      },
      "execution_count": 7,
      "outputs": [
        {
          "output_type": "execute_result",
          "data": {
            "text/plain": [
              "Index(['id', 'Length', 'Height', 'Width', 'FinSize', 'Weight'], dtype='object')"
            ]
          },
          "metadata": {},
          "execution_count": 7
        }
      ]
    },
    {
      "cell_type": "code",
      "source": [
        "df2.corr()\n",
        "print('Length')"
      ],
      "metadata": {
        "colab": {
          "base_uri": "https://localhost:8080/"
        },
        "id": "I-cDbST0UAaC",
        "outputId": "142a888d-2235-4ea4-acce-87d0df2ee35d"
      },
      "execution_count": 8,
      "outputs": [
        {
          "output_type": "stream",
          "name": "stdout",
          "text": [
            "Length\n"
          ]
        }
      ]
    },
    {
      "cell_type": "markdown",
      "source": [
        "1-3. 이상치의 개수"
      ],
      "metadata": {
        "id": "gzZnDxQ5UD_w"
      }
    },
    {
      "cell_type": "code",
      "source": [
        "df3 = pd.read_csv('./yemoonsaBigdata/datasets/Part5/ex7/07.01.03-apartment_prices_dataset.csv')"
      ],
      "metadata": {
        "id": "Ne3Bk4TLgfEZ"
      },
      "execution_count": 9,
      "outputs": []
    },
    {
      "cell_type": "code",
      "source": [
        "df3.dropna(inplace = True)"
      ],
      "metadata": {
        "id": "ryNRS4xAhUho"
      },
      "execution_count": 10,
      "outputs": []
    },
    {
      "cell_type": "code",
      "source": [
        "cols = df3.columns\n",
        "cnt = 0\n",
        "ans = []\n",
        "for col in cols:\n",
        "  IQR = df3[col].quantile(0.25) - df3[col].quantile(0.75)\n",
        "  cnt = (((df3[col] < df3[col].quantile(0.75) - (1.5 * IQR))) | (df3[col].quantile(0.25) > df3[col] + (1.5 * IQR))).sum()\n",
        "  print(cnt)\n",
        "  ans.append([col, cnt])\n",
        "  # print(col, end = ' ')\n",
        "  # print(((df3[col] < df3[col] - (1.5 * IQR)) | (df3[col] > df3[col] + (1.5 * IQR))))"
      ],
      "metadata": {
        "colab": {
          "base_uri": "https://localhost:8080/"
        },
        "id": "J5oP0EbimBRF",
        "outputId": "852ba337-cbac-4411-9522-e11aa4da25db"
      },
      "execution_count": 13,
      "outputs": [
        {
          "output_type": "stream",
          "name": "stdout",
          "text": [
            "734\n",
            "732\n",
            "733\n",
            "731\n",
            "720\n",
            "734\n",
            "730\n",
            "731\n",
            "730\n",
            "732\n",
            "735\n"
          ]
        }
      ]
    },
    {
      "cell_type": "code",
      "source": [
        "ans"
      ],
      "metadata": {
        "colab": {
          "base_uri": "https://localhost:8080/"
        },
        "id": "db5aEvREo9bV",
        "outputId": "a927207d-2910-4b9d-c444-24c4fa0d862f"
      },
      "execution_count": 14,
      "outputs": [
        {
          "output_type": "execute_result",
          "data": {
            "text/plain": [
              "[['Size', 734],\n",
              " ['Bedrooms', 732],\n",
              " ['Bathrooms', 733],\n",
              " ['Floor', 731],\n",
              " ['Age', 720],\n",
              " ['DistanceToCenter', 734],\n",
              " ['NearbySchools', 730],\n",
              " ['NearbyParks', 731],\n",
              " ['PublicTransport', 730],\n",
              " ['SafetyIndex', 732],\n",
              " ['Price', 735]]"
            ]
          },
          "metadata": {},
          "execution_count": 14
        }
      ]
    },
    {
      "cell_type": "code",
      "source": [
        "print('Age')"
      ],
      "metadata": {
        "colab": {
          "base_uri": "https://localhost:8080/"
        },
        "id": "sZ_qHnq_lCfY",
        "outputId": "47ba2cb6-5b65-48c5-f13c-161b81b58022"
      },
      "execution_count": 15,
      "outputs": [
        {
          "output_type": "stream",
          "name": "stdout",
          "text": [
            "Age\n"
          ]
        }
      ]
    },
    {
      "cell_type": "markdown",
      "source": [
        "### 2영역"
      ],
      "metadata": {
        "id": "RCyTeN5tQgyY"
      }
    },
    {
      "cell_type": "markdown",
      "source": [
        "2"
      ],
      "metadata": {
        "id": "YmHvMQf5qvRw"
      }
    },
    {
      "cell_type": "code",
      "source": [
        "import pandas as pd\n",
        "import numpy as np\n",
        "\n",
        "from sklearn.preprocessing import LabelEncoder\n",
        "from sklearn.preprocessing import MinMaxScaler\n",
        "\n",
        "from sklearn.metrics import mean_squared_error\n",
        "from sklearn.tree import DecisionTreeRegressor\n",
        "from sklearn.model_selection import train_test_split"
      ],
      "metadata": {
        "id": "tMVZ_iPqRFlq"
      },
      "execution_count": 20,
      "outputs": []
    },
    {
      "cell_type": "code",
      "source": [
        "train = pd.read_csv('./yemoonsaBigdata/datasets/Part5/ex7/07.02.01-sales_train_dataset.csv')\n",
        "x_test = pd.read_csv('./yemoonsaBigdata/datasets/Part5/ex7/07.02.02-sales_test_dataset_x.csv')"
      ],
      "metadata": {
        "id": "wY7nosnvqvsb"
      },
      "execution_count": 16,
      "outputs": []
    },
    {
      "cell_type": "code",
      "source": [
        "train.columns"
      ],
      "metadata": {
        "colab": {
          "base_uri": "https://localhost:8080/"
        },
        "id": "rRzdgnweSWI5",
        "outputId": "896eb2d2-0eab-49db-84d6-660d071cbe49"
      },
      "execution_count": 23,
      "outputs": [
        {
          "output_type": "execute_result",
          "data": {
            "text/plain": [
              "Index(['BranchName', 'City', 'Population', 'IncomeGeneratingPopRatio',\n",
              "       'AverageIncome', 'IndustryType', 'Sales'],\n",
              "      dtype='object')"
            ]
          },
          "metadata": {},
          "execution_count": 23
        }
      ]
    },
    {
      "cell_type": "code",
      "source": [
        "x_train = train[['BranchName', 'City', 'Population', 'IncomeGeneratingPopRatio','AverageIncome', 'IndustryType']]\n",
        "y_train = train[['Sales']]"
      ],
      "metadata": {
        "id": "qI0UZVyfSQyf"
      },
      "execution_count": 46,
      "outputs": []
    },
    {
      "cell_type": "code",
      "source": [
        "x_tr, x_val, y_tr, y_val = train_test_split(x_train, y_train, test_size = 0.3)"
      ],
      "metadata": {
        "id": "O8cRcbnkR6pu"
      },
      "execution_count": 47,
      "outputs": []
    },
    {
      "cell_type": "code",
      "source": [
        "print(x_tr.isna().sum())\n",
        "print(x_val.isna().sum())"
      ],
      "metadata": {
        "colab": {
          "base_uri": "https://localhost:8080/"
        },
        "id": "-ySd_nv7SlzS",
        "outputId": "97aff07a-b093-428a-c4c7-9b746987130e"
      },
      "execution_count": 33,
      "outputs": [
        {
          "output_type": "stream",
          "name": "stdout",
          "text": [
            "BranchName                  0\n",
            "City                        0\n",
            "Population                  0\n",
            "IncomeGeneratingPopRatio    0\n",
            "AverageIncome               0\n",
            "IndustryType                0\n",
            "dtype: int64\n",
            "BranchName                  0\n",
            "City                        0\n",
            "Population                  0\n",
            "IncomeGeneratingPopRatio    0\n",
            "AverageIncome               0\n",
            "IndustryType                0\n",
            "dtype: int64\n"
          ]
        }
      ]
    },
    {
      "cell_type": "code",
      "source": [
        "print(x_tr.isna().info())\n",
        "print(x_val.isna().info())"
      ],
      "metadata": {
        "colab": {
          "base_uri": "https://localhost:8080/"
        },
        "id": "yY8r3hWyTEtE",
        "outputId": "05e242a1-0c36-41be-c306-4e101bd66912"
      },
      "execution_count": 34,
      "outputs": [
        {
          "output_type": "stream",
          "name": "stdout",
          "text": [
            "<class 'pandas.core.frame.DataFrame'>\n",
            "Index: 490 entries, 300 to 621\n",
            "Data columns (total 6 columns):\n",
            " #   Column                    Non-Null Count  Dtype\n",
            "---  ------                    --------------  -----\n",
            " 0   BranchName                490 non-null    bool \n",
            " 1   City                      490 non-null    bool \n",
            " 2   Population                490 non-null    bool \n",
            " 3   IncomeGeneratingPopRatio  490 non-null    bool \n",
            " 4   AverageIncome             490 non-null    bool \n",
            " 5   IndustryType              490 non-null    bool \n",
            "dtypes: bool(6)\n",
            "memory usage: 6.7 KB\n",
            "None\n",
            "<class 'pandas.core.frame.DataFrame'>\n",
            "Index: 210 entries, 460 to 624\n",
            "Data columns (total 6 columns):\n",
            " #   Column                    Non-Null Count  Dtype\n",
            "---  ------                    --------------  -----\n",
            " 0   BranchName                210 non-null    bool \n",
            " 1   City                      210 non-null    bool \n",
            " 2   Population                210 non-null    bool \n",
            " 3   IncomeGeneratingPopRatio  210 non-null    bool \n",
            " 4   AverageIncome             210 non-null    bool \n",
            " 5   IndustryType              210 non-null    bool \n",
            "dtypes: bool(6)\n",
            "memory usage: 2.9 KB\n",
            "None\n"
          ]
        }
      ]
    },
    {
      "cell_type": "code",
      "source": [
        "le = LabelEncoder()\n",
        "cols = x_tr.columns\n",
        "\n",
        "for col in cols:\n",
        "  x_tr[col] = le.fit_transform(x_tr[col])\n",
        "  x_val[col] = le.fit_transform(x_val[col])"
      ],
      "metadata": {
        "id": "GEsqTdKHTJzC"
      },
      "execution_count": 38,
      "outputs": []
    },
    {
      "cell_type": "code",
      "source": [
        "dtr = DecisionTreeRegressor()\n",
        "model = dtr.fit(x_tr, y_tr)"
      ],
      "metadata": {
        "id": "nFg0nJ8-ToFf"
      },
      "execution_count": 39,
      "outputs": []
    },
    {
      "cell_type": "code",
      "source": [
        "predict = model.predict(x_val)\n",
        "print(mean_squared_error(predict, y_val))"
      ],
      "metadata": {
        "colab": {
          "base_uri": "https://localhost:8080/"
        },
        "id": "rHrBCl_ITw2N",
        "outputId": "8222e338-140f-49c1-b573-e4dd69967816"
      },
      "execution_count": 40,
      "outputs": [
        {
          "output_type": "stream",
          "name": "stdout",
          "text": [
            "2.6350040299869764e+16\n"
          ]
        }
      ]
    },
    {
      "cell_type": "code",
      "source": [
        "submit = pd.DataFrame(predict, columns = y_tr.columns)"
      ],
      "metadata": {
        "id": "aeJN--9MT-KP"
      },
      "execution_count": 48,
      "outputs": []
    },
    {
      "cell_type": "code",
      "source": [
        "submit.to_csv('./result.csv', index = False)"
      ],
      "metadata": {
        "id": "5ZXKWowJUTfR"
      },
      "execution_count": 50,
      "outputs": []
    },
    {
      "cell_type": "markdown",
      "source": [
        "### 3영역"
      ],
      "metadata": {
        "id": "Fbid8QPKQlK4"
      }
    },
    {
      "cell_type": "markdown",
      "source": [
        "3-1"
      ],
      "metadata": {
        "id": "sC0hkz0Zq1JJ"
      }
    },
    {
      "cell_type": "markdown",
      "source": [
        "3-1-1"
      ],
      "metadata": {
        "id": "BTC0fTPpUmDo"
      }
    },
    {
      "cell_type": "code",
      "source": [
        "from scipy import stats\n",
        "import statsmodels.api as sm"
      ],
      "metadata": {
        "id": "gZFuAFZ6q1sK"
      },
      "execution_count": 54,
      "outputs": []
    },
    {
      "cell_type": "code",
      "source": [
        "df = pd.read_csv('./yemoonsaBigdata/datasets/Part5/ex7/07.03.01-gender_prediction_dataset.csv')"
      ],
      "metadata": {
        "id": "2sghzsbsUsNy"
      },
      "execution_count": 81,
      "outputs": []
    },
    {
      "cell_type": "code",
      "source": [
        "df.columns"
      ],
      "metadata": {
        "colab": {
          "base_uri": "https://localhost:8080/"
        },
        "id": "etlHTWfCVEJS",
        "outputId": "121b7fee-c351-4348-a191-6e5e6112ebf9"
      },
      "execution_count": 56,
      "outputs": [
        {
          "output_type": "execute_result",
          "data": {
            "text/plain": [
              "Index(['Height', 'Weight', 'ShoeSize', 'Gender'], dtype='object')"
            ]
          },
          "metadata": {},
          "execution_count": 56
        }
      ]
    },
    {
      "cell_type": "code",
      "source": [
        "x = df[['Height', 'Weight', 'ShoeSize']]\n",
        "y = df[['Gender']]"
      ],
      "metadata": {
        "id": "IWo6Z89IU1wN"
      },
      "execution_count": 82,
      "outputs": []
    },
    {
      "cell_type": "code",
      "source": [
        "from sklearn.preprocessing import LabelEncoder\n",
        "\n",
        "le = LabelEncoder()\n",
        "\n",
        "y = le.fit_transform(y)"
      ],
      "metadata": {
        "colab": {
          "base_uri": "https://localhost:8080/"
        },
        "id": "EExB1ZpaVagh",
        "outputId": "df391972-fe4b-4220-8ca2-88c0f7275815"
      },
      "execution_count": 88,
      "outputs": [
        {
          "output_type": "stream",
          "name": "stderr",
          "text": [
            "/usr/local/lib/python3.10/dist-packages/sklearn/preprocessing/_label.py:116: DataConversionWarning: A column-vector y was passed when a 1d array was expected. Please change the shape of y to (n_samples, ), for example using ravel().\n",
            "  y = column_or_1d(y, warn=True)\n"
          ]
        }
      ]
    },
    {
      "cell_type": "code",
      "source": [
        "x = sm.add_constant(x)\n",
        "model = sm.Logit(y,x.values).fit()\n",
        "print(model.summary())"
      ],
      "metadata": {
        "colab": {
          "base_uri": "https://localhost:8080/"
        },
        "id": "eJnnQ2aaVP3v",
        "outputId": "7db6e76b-702e-4bae-9132-3a500f1c721e"
      },
      "execution_count": 89,
      "outputs": [
        {
          "output_type": "stream",
          "name": "stdout",
          "text": [
            "Optimization terminated successfully.\n",
            "         Current function value: 0.054594\n",
            "         Iterations 11\n",
            "                           Logit Regression Results                           \n",
            "==============================================================================\n",
            "Dep. Variable:                      y   No. Observations:                  300\n",
            "Model:                          Logit   Df Residuals:                      296\n",
            "Method:                           MLE   Df Model:                            3\n",
            "Date:                Thu, 20 Jun 2024   Pseudo R-squ.:                  0.9212\n",
            "Time:                        16:03:40   Log-Likelihood:                -16.378\n",
            "converged:                       True   LL-Null:                       -207.92\n",
            "Covariance Type:            nonrobust   LLR p-value:                 1.024e-82\n",
            "==============================================================================\n",
            "                 coef    std err          z      P>|z|      [0.025      0.975]\n",
            "------------------------------------------------------------------------------\n",
            "const       -139.4012     28.169     -4.949      0.000    -194.611     -84.192\n",
            "x1             0.4338      0.106      4.083      0.000       0.226       0.642\n",
            "x2             0.2963      0.085      3.490      0.000       0.130       0.463\n",
            "x3             0.1907      0.044      4.338      0.000       0.105       0.277\n",
            "==============================================================================\n",
            "\n",
            "Possibly complete quasi-separation: A fraction 0.44 of observations can be\n",
            "perfectly predicted. This might indicate that there is complete\n",
            "quasi-separation. In this case some parameters will not be identified.\n"
          ]
        }
      ]
    },
    {
      "cell_type": "code",
      "source": [
        "print(np.exp(0.0917))"
      ],
      "metadata": {
        "colab": {
          "base_uri": "https://localhost:8080/"
        },
        "id": "knJSQ5XDWCFU",
        "outputId": "59472f50-82fd-4247-f36b-09f88765fe84"
      },
      "execution_count": 80,
      "outputs": [
        {
          "output_type": "stream",
          "name": "stdout",
          "text": [
            "1.0960359619656765\n"
          ]
        }
      ]
    },
    {
      "cell_type": "markdown",
      "source": [
        "3-1-2."
      ],
      "metadata": {
        "id": "s7Fv22xdV9Ri"
      }
    },
    {
      "cell_type": "code",
      "source": [
        "print(-173.66)"
      ],
      "metadata": {
        "colab": {
          "base_uri": "https://localhost:8080/"
        },
        "id": "W097qXutV_he",
        "outputId": "5ab7d9d3-c302-4754-9741-4d1575c28a8a"
      },
      "execution_count": 64,
      "outputs": [
        {
          "output_type": "stream",
          "name": "stdout",
          "text": [
            "-173.66\n"
          ]
        }
      ]
    },
    {
      "cell_type": "markdown",
      "source": [
        "3-1-3."
      ],
      "metadata": {
        "id": "zEN5qcI1WL99"
      }
    },
    {
      "cell_type": "code",
      "source": [
        "print(1.331e-15)"
      ],
      "metadata": {
        "colab": {
          "base_uri": "https://localhost:8080/"
        },
        "id": "NWsepaXhWNwa",
        "outputId": "c07765b2-c443-4a88-df2e-184d5d940aa5"
      },
      "execution_count": 66,
      "outputs": [
        {
          "output_type": "stream",
          "name": "stdout",
          "text": [
            "1.331e-15\n"
          ]
        }
      ]
    },
    {
      "cell_type": "markdown",
      "source": [
        "3-2-1."
      ],
      "metadata": {
        "id": "Ijcx6Mm7WbtL"
      }
    },
    {
      "cell_type": "code",
      "source": [
        "df = pd.read_csv('./yemoonsaBigdata/datasets/Part5/ex7/07.03.02-used_car_price_dataset.csv')"
      ],
      "metadata": {
        "id": "6Rpll0DoWdI7"
      },
      "execution_count": 93,
      "outputs": []
    },
    {
      "cell_type": "code",
      "source": [
        "df.columns"
      ],
      "metadata": {
        "colab": {
          "base_uri": "https://localhost:8080/"
        },
        "id": "7bvtpA36WjoW",
        "outputId": "9080c899-3686-4b45-8761-f7ff50aa1dbc"
      },
      "execution_count": 94,
      "outputs": [
        {
          "output_type": "execute_result",
          "data": {
            "text/plain": [
              "Index(['year', 'price', 'transmission', 'mileage', 'fuelType', 'tax', 'mpg',\n",
              "       'engineSize'],\n",
              "      dtype='object')"
            ]
          },
          "metadata": {},
          "execution_count": 94
        }
      ]
    },
    {
      "cell_type": "code",
      "source": [
        "x = df[['year','transmission', 'mileage', 'fuelType', 'tax', 'mpg','engineSize']]\n",
        "y = df[['price']]"
      ],
      "metadata": {
        "id": "FKNnBP4lWlk9"
      },
      "execution_count": 95,
      "outputs": []
    },
    {
      "cell_type": "code",
      "source": [
        "for col in x.columns:\n",
        "  x[col] = le.fit_transform(x[col])"
      ],
      "metadata": {
        "id": "VQfqBA33W3f8"
      },
      "execution_count": 97,
      "outputs": []
    },
    {
      "cell_type": "code",
      "source": [
        "x = sm.add_constant(x)\n",
        "model = sm.OLS(y, x).fit()\n",
        "print(model.summary())"
      ],
      "metadata": {
        "colab": {
          "base_uri": "https://localhost:8080/"
        },
        "id": "gVxNCnVOWvZA",
        "outputId": "db9b351f-9eea-43d2-eb97-94c05d3ab307"
      },
      "execution_count": 98,
      "outputs": [
        {
          "output_type": "stream",
          "name": "stdout",
          "text": [
            "                            OLS Regression Results                            \n",
            "==============================================================================\n",
            "Dep. Variable:                  price   R-squared:                       0.743\n",
            "Model:                            OLS   Adj. R-squared:                  0.743\n",
            "Method:                 Least Squares   F-statistic:                     2062.\n",
            "Date:                Thu, 20 Jun 2024   Prob (F-statistic):               0.00\n",
            "Time:                        16:07:48   Log-Likelihood:                -50568.\n",
            "No. Observations:                5000   AIC:                         1.012e+05\n",
            "Df Residuals:                    4992   BIC:                         1.012e+05\n",
            "Df Model:                           7                                         \n",
            "Covariance Type:            nonrobust                                         \n",
            "================================================================================\n",
            "                   coef    std err          t      P>|t|      [0.025      0.975]\n",
            "--------------------------------------------------------------------------------\n",
            "const         3.634e+04   1181.466     30.755      0.000     3.4e+04    3.87e+04\n",
            "const        -1.601e-08   5.33e-10    -30.023      0.000   -1.71e-08    -1.5e-08\n",
            "year          1643.2545     88.658     18.535      0.000    1469.446    1817.063\n",
            "transmission   -72.5352    121.506     -0.597      0.551    -310.739     165.669\n",
            "mileage         -1.1891      0.137     -8.649      0.000      -1.459      -0.920\n",
            "fuelType     -1047.7624    141.171     -7.422      0.000   -1324.519    -771.006\n",
            "tax           -594.1136     36.467    -16.292      0.000    -665.604    -522.623\n",
            "mpg           -445.2760     12.276    -36.271      0.000    -469.343    -421.209\n",
            "engineSize    1599.3867     61.745     25.903      0.000    1478.340    1720.433\n",
            "==============================================================================\n",
            "Omnibus:                     4803.306   Durbin-Watson:                   1.872\n",
            "Prob(Omnibus):                  0.000   Jarque-Bera (JB):           459117.539\n",
            "Skew:                           4.372   Prob(JB):                         0.00\n",
            "Kurtosis:                      49.123   Cond. No.                     4.33e+17\n",
            "==============================================================================\n",
            "\n",
            "Notes:\n",
            "[1] Standard Errors assume that the covariance matrix of the errors is correctly specified.\n",
            "[2] The smallest eigenvalue is 1.17e-25. This might indicate that there are\n",
            "strong multicollinearity problems or that the design matrix is singular.\n"
          ]
        }
      ]
    },
    {
      "cell_type": "code",
      "source": [
        "print(0.743)"
      ],
      "metadata": {
        "colab": {
          "base_uri": "https://localhost:8080/"
        },
        "id": "_2bPvHuyXEtO",
        "outputId": "310a87e4-7155-4aed-f8bc-578b35350b8a"
      },
      "execution_count": 99,
      "outputs": [
        {
          "output_type": "stream",
          "name": "stdout",
          "text": [
            "0.743\n"
          ]
        }
      ]
    },
    {
      "cell_type": "markdown",
      "source": [
        "3-2-2"
      ],
      "metadata": {
        "id": "SCK7H6mYXITF"
      }
    },
    {
      "cell_type": "code",
      "source": [
        "print(('year', 1643.2545))"
      ],
      "metadata": {
        "colab": {
          "base_uri": "https://localhost:8080/"
        },
        "id": "nt4Bm3T1XJee",
        "outputId": "ff8bb2e5-a07b-46e5-c616-dcdc897867c0"
      },
      "execution_count": 74,
      "outputs": [
        {
          "output_type": "stream",
          "name": "stdout",
          "text": [
            "('year', 3314.1099)\n"
          ]
        }
      ]
    },
    {
      "cell_type": "markdown",
      "source": [
        "3-3-3."
      ],
      "metadata": {
        "id": "au_Cv32dXRFO"
      }
    },
    {
      "cell_type": "code",
      "source": [
        "model.pvalues\n",
        "print(model.pvalues.idxmin)\n",
        "\n",
        "print(('year', 0.000000e+00))\n",
        "print(('engineSize', 0.000000e+00))"
      ],
      "metadata": {
        "colab": {
          "base_uri": "https://localhost:8080/"
        },
        "id": "yv89xrYZXSdx",
        "outputId": "7cef2328-aa64-4295-9690-6cc7e53cca8d"
      },
      "execution_count": 79,
      "outputs": [
        {
          "output_type": "stream",
          "name": "stdout",
          "text": [
            "<bound method Series.idxmin of year            0.000000e+00\n",
            "transmission    8.359264e-01\n",
            "mileage         1.817968e-01\n",
            "fuelType        6.916250e-64\n",
            "tax             1.460484e-04\n",
            "mpg             1.301502e-67\n",
            "engineSize      0.000000e+00\n",
            "dtype: float64>\n",
            "('year', 0.0)\n",
            "('engineSize', 0.0)\n"
          ]
        }
      ]
    }
  ]
}