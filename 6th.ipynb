{
  "nbformat": 4,
  "nbformat_minor": 0,
  "metadata": {
    "colab": {
      "provenance": [],
      "authorship_tag": "ABX9TyNjiFOiOteYVT665SOibDIk",
      "include_colab_link": true
    },
    "kernelspec": {
      "name": "python3",
      "display_name": "Python 3"
    },
    "language_info": {
      "name": "python"
    }
  },
  "cells": [
    {
      "cell_type": "markdown",
      "metadata": {
        "id": "view-in-github",
        "colab_type": "text"
      },
      "source": [
        "<a href=\"https://colab.research.google.com/github/ssook1222/Data-Analysis-Crush/blob/main/6th.ipynb\" target=\"_parent\"><img src=\"https://colab.research.google.com/assets/colab-badge.svg\" alt=\"Open In Colab\"/></a>"
      ]
    },
    {
      "cell_type": "markdown",
      "source": [
        "### 1영역"
      ],
      "metadata": {
        "id": "L0gIVMH0MaJQ"
      }
    },
    {
      "cell_type": "code",
      "execution_count": null,
      "metadata": {
        "id": "ksbDqJKmMWgO"
      },
      "outputs": [],
      "source": [
        "!git clone https://github.com/AnalyticsKnight/yemoonsaBigdata/\n",
        "\n",
        "import pandas as pd\n",
        "import numpy as np\n",
        "\n",
        "df1_1 = pd.read_csv('./yemoonsaBigdata/datasets/Part5/ex6/06.01.01-Fire Station Data.csv', encoding = 'EUC-KR')\n",
        "\n",
        "import datetime as dt\n",
        "\n",
        "df1_1['도착시간'] = pd.to_datetime(df1_1['도착시간'])\n",
        "df1_1['출발시간'] = pd.to_datetime(df1_1['출발시간'])\n",
        "\n",
        "df1_1['출동시간'] = df1_1['도착시간']-df1_1['출발시간']\n",
        "\n",
        "raw = df1_1.groupby('소방서ID').출동시간.mean().sort_values().tail(1)\n",
        "print(raw)\n",
        "\n",
        "print('37:56.25')"
      ]
    },
    {
      "cell_type": "code",
      "source": [
        "df1_2 = pd.read_csv('./yemoonsaBigdata/datasets/Part5/ex6/06.01.02-Elementary School Data.csv', encoding = 'EUC-KR')\n",
        "\n",
        "cnts = 0\n",
        "for col in ['1G Students', '2G Students', '3G Students', '4G Students', '5G Students', '6G Students'] :\n",
        "  cnts += df1_2[col]\n",
        "\n",
        "df1_2['total_students'] = cnts\n",
        "df1_2['per'] = df1_2['total_students'] / df1_2['Teachers']\n",
        "df1_2 = df1_2.sort_values('per', ascending = False)\n",
        "print(df1_2)\n",
        "print(245)"
      ],
      "metadata": {
        "id": "JDvQFVaTMbug"
      },
      "execution_count": null,
      "outputs": []
    },
    {
      "cell_type": "code",
      "source": [
        "df1_3 = pd.read_csv('./yemoonsaBigdata/datasets/Part5/ex6/06.01.03-Crime Data.csv', encoding = 'EUC-KR')\n",
        "df1_3['Date'] = pd.to_datetime(df1_3['Year-Month'])\n",
        "\n",
        "df2022 = df1_3[(df1_3.Date.dt.year == 2022)]\n",
        "df2021 = df1_3[(df1_3.Date.dt.year == 2021)]\n",
        "\n",
        "cols = ['Violent', 'Theft', 'Traffic',\n",
        "       'Intelligence', 'Against Morals', 'Special Economic', 'Drug', 'Health',\n",
        "       'Environmental', 'Labor', 'Security', 'Election', 'Military', 'Other']\n",
        "\n",
        "cnt2022 = 0\n",
        "cnt2021 = 0\n",
        "cnt = 0\n",
        "\n",
        "for col in cols:\n",
        "  cnt2022 += df2022[col]\n",
        "  cnt2021 += df2021[col]\n",
        "  cnt += df1_3[col]\n",
        "\n",
        "df2022['total'] = cnt2022\n",
        "df2021['total'] = cnt2021\n",
        "df1_3['total'] = cnt\n",
        "\n",
        "df2022.reset_index(drop=True, inplace = True)\n",
        "df2021.reset_index(drop=True, inplace = True)\n",
        "\n",
        "(df2022['total'] - df2021['total']).sort_values(ascending = False)\n",
        "(df2022['total'] - df2021['total'])\n",
        "df2022[(df2022.index == 195)]\n",
        "\n",
        "raw = 'PS 17'\n",
        "df1_3[(df1_3['Police Station'] == raw) & (df1_3.Date.dt.year == 2021) ].Traffic.sum()\n",
        "print(216)"
      ],
      "metadata": {
        "id": "Hbj1bWkSMds4"
      },
      "execution_count": null,
      "outputs": []
    },
    {
      "cell_type": "markdown",
      "source": [
        "### 2유형"
      ],
      "metadata": {
        "id": "xryNzWN_MgFS"
      }
    },
    {
      "cell_type": "code",
      "source": [
        "import numpy as np\n",
        "import pandas as pd\n",
        "\n",
        "from sklearn.preprocessing import LabelEncoder\n",
        "from sklearn.preprocessing import MinMaxScaler\n",
        "\n",
        "from sklearn.metrics import accuracy_score\n",
        "from sklearn.tree import DecisionTreeClassifier\n",
        "from sklearn.model_selection import train_test_split\n",
        "\n",
        "train = pd.read_csv('./yemoonsaBigdata/datasets/Part5/ex6/06.02.01-Metaverse Training Data.csv')\n",
        "x_test = pd.read_csv('./yemoonsaBigdata/datasets/Part5/ex6/06.02.02-Metaverse Testing Data_x.csv')\n",
        "y_test = pd.read_csv('./yemoonsaBigdata/datasets/Part5/ex6/06.02.03-Metaverse Testing Data_y.csv')\n",
        "\n",
        "x = train[['Gender', 'Education', 'Occupation Type', 'Residence Type',\n",
        "       'Experience Using Metaverse', 'Age', 'Annual Salary']]\n",
        "y = train[['Preferred Metaverse Type']]\n",
        "\n",
        "x_tr, x_val, y_tr, y_val = train_test_split(x, y, test_size = 0.3)\n",
        "print(x_tr.isna().sum())\n",
        "print(x_val.isna().sum())\n",
        "\n",
        "print(x_tr.info())\n",
        "\n",
        "cols = x_tr.select_dtypes(include = object)\n",
        "le = LabelEncoder()\n",
        "for col in cols:\n",
        "  x_tr[col] = le.fit_transform(x_tr[col])\n",
        "  x_val[col] = le.fit_transform(x_val[col])\n",
        "\n",
        "min_max = MinMaxScaler()\n",
        "\n",
        "x_tr_data = min_max.fit_transform(x_tr)\n",
        "x_val_data = min_max.fit_transform(x_val)\n",
        "\n",
        "x_tr = pd.DataFrame(x_tr_data, columns = x_tr.columns)\n",
        "x_val = pd.DataFrame(x_val_data, columns = x_val.columns)\n",
        "\n",
        "dtc = DecisionTreeClassifier()\n",
        "model = dtc.fit(x_tr, y_tr)\n",
        "predict = model.predict(x_val)\n",
        "\n",
        "print(accuracy_score(predict, y_val))\n",
        "submit = pd.DataFrame(predict, columns = y_val.columns)\n",
        "print(submit)\n",
        "submit.to_csv('./result.csv', index = False)"
      ],
      "metadata": {
        "id": "efNxxSUWMhaA"
      },
      "execution_count": null,
      "outputs": []
    },
    {
      "cell_type": "markdown",
      "source": [
        "### 3유형"
      ],
      "metadata": {
        "id": "_w36NXqaMj8n"
      }
    },
    {
      "cell_type": "code",
      "source": [
        "df3_1 = pd.read_csv('./yemoonsaBigdata/datasets/Part5/ex6/06.03.01-transport_data.csv')\n",
        "\n",
        "real_subway = df3_1[(df3_1['TransportMode'] == 'subway')].shape[0]\n",
        "real_bus = df3_1[(df3_1['TransportMode'] == 'bus')].shape[0]\n",
        "real_taxi = df3_1[(df3_1['TransportMode'] == 'taxi')].shape[0]\n",
        "real_bicycle = df3_1[(df3_1['TransportMode'] == 'bicycle')].shape[0]\n",
        "\n",
        "total = df3_1.shape[0]\n",
        "subway = 294\n",
        "print(round(subway / total, 2))"
      ],
      "metadata": {
        "id": "MhEfTcCZMiId"
      },
      "execution_count": null,
      "outputs": []
    },
    {
      "cell_type": "code",
      "source": [
        "bus = total* 0.4\n",
        "subway = total*0.3\n",
        "taxi = total*0.2\n",
        "bicycle = total*0.1\n",
        "\n",
        "expect = [bus, subway, taxi, bicycle]\n",
        "see = [real_bus, real_subway, real_taxi, real_bicycle]\n",
        "\n",
        "from scipy import stats\n",
        "raw_ans = stats.chi2_contingency([expect, see])\n",
        "print(round(raw_ans.statistic,2))"
      ],
      "metadata": {
        "id": "g6iF0wDwMmxr"
      },
      "execution_count": null,
      "outputs": []
    },
    {
      "cell_type": "code",
      "source": [
        "print(round(raw_ans.pvalue,2))\n",
        "\n",
        "df3_2 = pd.read_csv('./yemoonsaBigdata/datasets/Part5/ex6/06.03.02-fish_weight_data.csv')\n",
        "\n",
        "print(df3_2.columns)\n",
        "\n",
        "x = df3_2[['Length', 'Height', 'Width', 'FinSize']]\n",
        "y = df3_2[['Weight']]\n",
        "\n",
        "import statsmodels.api as sm\n",
        "\n",
        "x = sm.add_constant(x)\n",
        "model = sm.OLS(y, x).fit()\n",
        "print(model.summary())\n",
        "\n",
        "print(\"1 : %.2f\" %2.0350)\n",
        "print(\"2 : %f\" %0.000)\n",
        "print(\"3 : %f\" %0.000)\n",
        "print(\"Y\")"
      ],
      "metadata": {
        "id": "ayF3bHShMofi"
      },
      "execution_count": null,
      "outputs": []
    }
  ]
}